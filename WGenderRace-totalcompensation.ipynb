{
 "cells": [
  {
   "cell_type": "code",
   "execution_count": 1,
   "metadata": {
    "id": "5iE3pAZ2BZ7v"
   },
   "outputs": [],
   "source": [
    "# Import libraries\n",
    "import pandas as pd\n",
    "import numpy as np\n",
    "import matplotlib.pyplot as plt\n",
    "import seaborn as sns\n",
    "import plotly.express as px\n",
    "from sklearn import preprocessing, feature_selection\n",
    "%matplotlib inline\n",
    "from IPython.display import Markdown, display"
   ]
  },
  {
   "cell_type": "code",
   "execution_count": 2,
   "metadata": {
    "id": "90572183"
   },
   "outputs": [],
   "source": [
    "# Reading datasets\n",
    "\n",
    "levels_df = pd.read_csv('https://raw.github.ccs.neu.edu/pantu16/cs6620_peiling_yuting_pedro/main/data/levels_fyi_salary_data.csv?token=AAABOLP6YVPNZECODFFF723CMZ6XM')\n"
   ]
  },
  {
   "cell_type": "code",
   "execution_count": null,
   "metadata": {
    "colab": {
     "base_uri": "https://localhost:8080/"
    },
    "id": "0ba97d30",
    "outputId": "874ebb81-dbca-42f2-e51c-588d1df80348"
   },
   "outputs": [
    {
     "data": {
      "text/plain": [
       "timestamp                   object\n",
       "company                     object\n",
       "level                       object\n",
       "title                       object\n",
       "totalyearlycompensation      int64\n",
       "location                    object\n",
       "yearsofexperience          float64\n",
       "yearsatcompany             float64\n",
       "tag                         object\n",
       "basesalary                 float64\n",
       "stockgrantvalue            float64\n",
       "bonus                      float64\n",
       "gender                      object\n",
       "otherdetails                object\n",
       "cityid                       int64\n",
       "dmaid                      float64\n",
       "rowNumber                    int64\n",
       "Masters_Degree               int64\n",
       "Bachelors_Degree             int64\n",
       "Doctorate_Degree             int64\n",
       "Highschool                   int64\n",
       "Some_College                 int64\n",
       "Race_Asian                   int64\n",
       "Race_White                   int64\n",
       "Race_Two_Or_More             int64\n",
       "Race_Black                   int64\n",
       "Race_Hispanic                int64\n",
       "Race                        object\n",
       "Education                   object\n",
       "dtype: object"
      ]
     },
     "execution_count": 4,
     "metadata": {},
     "output_type": "execute_result"
    }
   ],
   "source": [
    "levels_df.dtypes"
   ]
  },
  {
   "cell_type": "code",
   "execution_count": 3,
   "metadata": {
    "colab": {
     "base_uri": "https://localhost:8080/"
    },
    "id": "3d4ce57e",
    "outputId": "33b36905-2619-4d8a-acb6-c3e33d72f3b1"
   },
   "outputs": [
    {
     "data": {
      "text/plain": [
       "timestamp                      0\n",
       "company                        5\n",
       "level                        119\n",
       "title                          0\n",
       "totalyearlycompensation        0\n",
       "location                       0\n",
       "yearsofexperience              0\n",
       "yearsatcompany                 0\n",
       "tag                          854\n",
       "basesalary                     0\n",
       "stockgrantvalue                0\n",
       "bonus                          0\n",
       "gender                     19540\n",
       "otherdetails               22505\n",
       "cityid                         0\n",
       "dmaid                          2\n",
       "rowNumber                      0\n",
       "Masters_Degree                 0\n",
       "Bachelors_Degree               0\n",
       "Doctorate_Degree               0\n",
       "Highschool                     0\n",
       "Some_College                   0\n",
       "Race_Asian                     0\n",
       "Race_White                     0\n",
       "Race_Two_Or_More               0\n",
       "Race_Black                     0\n",
       "Race_Hispanic                  0\n",
       "Race                       40215\n",
       "Education                  32272\n",
       "dtype: int64"
      ]
     },
     "execution_count": 3,
     "metadata": {},
     "output_type": "execute_result"
    }
   ],
   "source": [
    "# Count of NaNs\n",
    "levels_df.isna().sum()"
   ]
  },
  {
   "cell_type": "code",
   "execution_count": 4,
   "metadata": {
    "colab": {
     "base_uri": "https://localhost:8080/"
    },
    "id": "c1561ebc",
    "outputId": "38b0e7d1-3b5f-408c-ce27-d478679eb1e7"
   },
   "outputs": [
    {
     "data": {
      "text/plain": [
       "timestamp                  0\n",
       "company                    0\n",
       "level                      0\n",
       "title                      0\n",
       "totalyearlycompensation    0\n",
       "location                   0\n",
       "yearsofexperience          0\n",
       "yearsatcompany             0\n",
       "tag                        0\n",
       "basesalary                 0\n",
       "stockgrantvalue            0\n",
       "bonus                      0\n",
       "gender                     0\n",
       "otherdetails               0\n",
       "cityid                     0\n",
       "dmaid                      0\n",
       "rowNumber                  0\n",
       "Masters_Degree             0\n",
       "Bachelors_Degree           0\n",
       "Doctorate_Degree           0\n",
       "Highschool                 0\n",
       "Some_College               0\n",
       "Race_Asian                 0\n",
       "Race_White                 0\n",
       "Race_Two_Or_More           0\n",
       "Race_Black                 0\n",
       "Race_Hispanic              0\n",
       "Race                       0\n",
       "Education                  0\n",
       "std_company_name           0\n",
       "dtype: int64"
      ]
     },
     "execution_count": 4,
     "metadata": {},
     "output_type": "execute_result"
    }
   ],
   "source": [
    "# 'Company': Drop NaN values since there is no way to infer company\n",
    "levels_df.dropna(subset = ['company'], inplace=True)\n",
    "\n",
    "# Refactor Companies' names to avoid duplication with misspelled names\n",
    "# Reducing unique companies' names from 1631 to 1100\n",
    "levels_df['std_company_name'] = levels_df['company'].map(lambda x: x.strip().lower().replace(\" \", \"_\"))\n",
    "\n",
    "# Replace NaN values in categorical features with \"Unknown\" to avoid dropping rows\n",
    "features_to_replace = {'level': np.nan,\n",
    "                   'tag': np.nan,\n",
    "                    'gender': np.nan,\n",
    "                    'otherdetails': np.nan,\n",
    "                    'Race': np.nan,\n",
    "                   'Education': np.nan}\n",
    "\n",
    "replacement_values = {'level': 'Unknown_level',\n",
    "                   'tag': 'Unknown_tag',\n",
    "                    'gender': 'Unknown_gender',\n",
    "                    'otherdetails': 'No_details',\n",
    "                    'Race': 'Unknown_race',\n",
    "                   'Education': 'Unknown_degree'}\n",
    "\n",
    "levels_df.replace(to_replace=features_to_replace,\n",
    "                  value=replacement_values,\n",
    "                  inplace=True)\n",
    "\n",
    "# 'dmid' replace NA values with 0\n",
    "levels_df['dmaid'].fillna(0, inplace=True)\n",
    "\n",
    "# 'gender' rename random value\n",
    "levels_df['gender'] = levels_df['gender'].replace('Title: Senior Software Engineer','Unknown_gender')\n",
    "levels_df['gender'] = levels_df['gender'].replace('Other','Other_gender')\n",
    "\n",
    "# 'Race' rename\n",
    "levels_df['Race'] = levels_df['Race'].replace('Two Or More','Two_Or_More_race')\n",
    "\n",
    "# Count of NaNs\n",
    "levels_df.isna().sum()"
   ]
  },
  {
   "cell_type": "code",
   "execution_count": 5,
   "metadata": {
    "colab": {
     "base_uri": "https://localhost:8080/"
    },
    "id": "877ba9d1",
    "outputId": "21216867-1ce4-425e-f854-a4f0a067acc6"
   },
   "outputs": [
    {
     "data": {
      "text/plain": [
       "timestamp                  datetime64[ns]\n",
       "company                            object\n",
       "level                              object\n",
       "title                              object\n",
       "totalyearlycompensation             int64\n",
       "location                           object\n",
       "yearsofexperience                 float64\n",
       "yearsatcompany                    float64\n",
       "tag                                object\n",
       "basesalary                        float64\n",
       "stockgrantvalue                   float64\n",
       "bonus                             float64\n",
       "gender                             object\n",
       "otherdetails                       object\n",
       "cityid                              int64\n",
       "dmaid                             float64\n",
       "rowNumber                           int64\n",
       "Masters_Degree                      int64\n",
       "Bachelors_Degree                    int64\n",
       "Doctorate_Degree                    int64\n",
       "Highschool                          int64\n",
       "Some_College                        int64\n",
       "Race_Asian                          int64\n",
       "Race_White                          int64\n",
       "Race_Two_Or_More                    int64\n",
       "Race_Black                          int64\n",
       "Race_Hispanic                       int64\n",
       "Race                               object\n",
       "Education                          object\n",
       "std_company_name                   object\n",
       "dtype: object"
      ]
     },
     "execution_count": 5,
     "metadata": {},
     "output_type": "execute_result"
    }
   ],
   "source": [
    "# Converting timestamp to datetime64\n",
    "\n",
    "levels_df['timestamp'] = pd.to_datetime(levels_df['timestamp'])\n",
    "levels_df.dtypes\n"
   ]
  },
  {
   "cell_type": "markdown",
   "metadata": {
    "id": "4195e216"
   },
   "source": [
    "### Feature Selection"
   ]
  },
  {
   "cell_type": "code",
   "execution_count": null,
   "metadata": {
    "colab": {
     "base_uri": "https://localhost:8080/",
     "height": 617
    },
    "id": "6b23768e",
    "outputId": "8096e33e-6a90-4365-92d5-ab8dd7892d78"
   },
   "outputs": [
    {
     "data": {
      "image/png": "[encoded data removed]",
      "text/plain": [
       "<Figure size 864x576 with 2 Axes>"
      ]
     },
     "metadata": {},
     "output_type": "display_data"
    }
   ],
   "source": [
    "# Correlation Matrix\n",
    "\n",
    "plt.figure(figsize=(12,8))\n",
    "sns.heatmap(levels_df.corr(), cmap=\"RdBu\")\n",
    "plt.title(\"Correlations Matrix\", size=17)\n",
    "plt.show()"
   ]
  },
  {
   "cell_type": "code",
   "execution_count": 6,
   "metadata": {
    "colab": {
     "base_uri": "https://localhost:8080/",
     "height": 614
    },
    "id": "35823b38",
    "outputId": "d89c3867-e61f-49d6-cc5e-dbcb8defe2f8"
   },
   "outputs": [
    {
     "data": {
      "text/html": [
       "<div>\n",
       "<style scoped>\n",
       "    .dataframe tbody tr th:only-of-type {\n",
       "        vertical-align: middle;\n",
       "    }\n",
       "\n",
       "    .dataframe tbody tr th {\n",
       "        vertical-align: top;\n",
       "    }\n",
       "\n",
       "    .dataframe thead th {\n",
       "        text-align: right;\n",
       "    }\n",
       "</style>\n",
       "<table border=\"1\" class=\"dataframe\">\n",
       "  <thead>\n",
       "    <tr style=\"text-align: right;\">\n",
       "      <th></th>\n",
       "      <th>MutualInfo</th>\n",
       "    </tr>\n",
       "  </thead>\n",
       "  <tbody>\n",
       "    <tr>\n",
       "      <th>cityid</th>\n",
       "      <td>0.329851</td>\n",
       "    </tr>\n",
       "    <tr>\n",
       "      <th>dmaid</th>\n",
       "      <td>0.259512</td>\n",
       "    </tr>\n",
       "    <tr>\n",
       "      <th>yearsofexperience</th>\n",
       "      <td>0.152490</td>\n",
       "    </tr>\n",
       "    <tr>\n",
       "      <th>rowNumber</th>\n",
       "      <td>0.035646</td>\n",
       "    </tr>\n",
       "    <tr>\n",
       "      <th>yearsatcompany</th>\n",
       "      <td>0.031628</td>\n",
       "    </tr>\n",
       "    <tr>\n",
       "      <th>Bachelors_Degree</th>\n",
       "      <td>0.022883</td>\n",
       "    </tr>\n",
       "    <tr>\n",
       "      <th>Race_Asian</th>\n",
       "      <td>0.010519</td>\n",
       "    </tr>\n",
       "    <tr>\n",
       "      <th>Masters_Degree</th>\n",
       "      <td>0.007958</td>\n",
       "    </tr>\n",
       "    <tr>\n",
       "      <th>Doctorate_Degree</th>\n",
       "      <td>0.007589</td>\n",
       "    </tr>\n",
       "    <tr>\n",
       "      <th>Race_White</th>\n",
       "      <td>0.005043</td>\n",
       "    </tr>\n",
       "    <tr>\n",
       "      <th>Highschool</th>\n",
       "      <td>0.002744</td>\n",
       "    </tr>\n",
       "    <tr>\n",
       "      <th>Some_College</th>\n",
       "      <td>0.000000</td>\n",
       "    </tr>\n",
       "    <tr>\n",
       "      <th>Race_Two_Or_More</th>\n",
       "      <td>0.000000</td>\n",
       "    </tr>\n",
       "    <tr>\n",
       "      <th>Race_Black</th>\n",
       "      <td>0.000000</td>\n",
       "    </tr>\n",
       "    <tr>\n",
       "      <th>Race_Hispanic</th>\n",
       "      <td>0.000000</td>\n",
       "    </tr>\n",
       "  </tbody>\n",
       "</table>\n",
       "</div>"
      ],
      "text/plain": [
       "                   MutualInfo\n",
       "cityid               0.329851\n",
       "dmaid                0.259512\n",
       "yearsofexperience    0.152490\n",
       "rowNumber            0.035646\n",
       "yearsatcompany       0.031628\n",
       "Bachelors_Degree     0.022883\n",
       "Race_Asian           0.010519\n",
       "Masters_Degree       0.007958\n",
       "Doctorate_Degree     0.007589\n",
       "Race_White           0.005043\n",
       "Highschool           0.002744\n",
       "Some_College         0.000000\n",
       "Race_Two_Or_More     0.000000\n",
       "Race_Black           0.000000\n",
       "Race_Hispanic        0.000000"
      ]
     },
     "execution_count": 6,
     "metadata": {},
     "output_type": "execute_result"
    }
   ],
   "source": [
    "# Mutual Information with standardized numeric features and totalyearlycompensation as target variable\n",
    "\n",
    "# Select numeric features, drop base salary\n",
    "numeric_features_df = levels_df.select_dtypes(include=np.number).copy()\n",
    "# Drop totalyearlycompensation, bonu, stockgrantvalue since prediction will be made for basesalary\n",
    "numeric_features_df.drop(labels=['basesalary', 'totalyearlycompensation', 'bonus', 'stockgrantvalue'], axis=1, inplace=True)\n",
    "numeric_features_names = numeric_features_df.columns.tolist()\n",
    "\n",
    "# Standardize\n",
    "numeric_features_std = preprocessing.scale(numeric_features_df)\n",
    "\n",
    "# Create a dataframe from ndnumpy array\n",
    "numeric_std_df = pd.DataFrame(numeric_features_std, columns=numeric_features_names)\n",
    "\n",
    "y_vector = levels_df['totalyearlycompensation']\n",
    "mutual_info_array = feature_selection.mutual_info_regression(X=numeric_std_df, y = y_vector)\n",
    "mutual_info_array\n",
    "\n",
    "# Building a dataframe with index = feature's name and column = 'MutualInfo'\n",
    "mutual_info_df = pd.DataFrame(mutual_info_array, columns=['MutualInfo'], index=numeric_features_names)\n",
    "mutual_info_df.sort_values(by='MutualInfo', ascending=False, inplace=True)\n",
    "mutual_info_df\n"
   ]
  },
  {
   "cell_type": "code",
   "execution_count": 26,
   "metadata": {
    "id": "78304aab"
   },
   "outputs": [],
   "source": [
    "# Encode Location, Since cityid is a relevant feature\n",
    "\n",
    "# OPTION 0: hot encoding and use all columns\n",
    "# levels_df = levels_df.join(pd.get_dummies(levels_df.location))\n",
    "\n",
    "# OPTION 1: Binary Encoding for location\n",
    "\n",
    "# Requires to install category_encoders run: pip install category_encoders\n",
    "# Using Binary Encoding Reference: https://www.analyticsvidhya.com/blog/2020/08/types-of-categorical-data-encoding/\n",
    "# https://contrib.scikit-learn.org/category_encoders/index.html\n",
    "\n",
    "# import category_encoders as ce\n",
    "\n",
    "# binary_encoder = ce.BinaryEncoder(cols=['location'], return_df=True)\n",
    "# levels_df = binary_encoder.fit_transform(levels_df)\n",
    "\n",
    "# levels_df.head(10)\n"
   ]
  },
  {
   "cell_type": "code",
   "execution_count": 27,
   "metadata": {
    "id": "4d53a94a"
   },
   "outputs": [],
   "source": [
    "# Encode Location\n",
    "\n",
    "# # OPTION 2: One hot encoding TOP X most frequent locations \n",
    "# location_threshold = 1000 # locations with more than 1000 instances\n",
    "# top_locations = levels_df[levels_df['location'].isin(levels_df['location'].value_counts()[levels_df['location'].value_counts() > location_threshold].index)].location.unique()\n",
    "# top_locations = top_locations.tolist()\n",
    "\n",
    "# # Join locations\n",
    "# levels_df = levels_df.join(pd.get_dummies(levels_df.location)[top_locations])\n",
    "# levels_df.head()\n",
    "\n",
    "# Optional\n",
    "# levels_df.drop(['cityid', 'location'], axis=1, inplace=True)\n"
   ]
  },
  {
   "cell_type": "code",
   "execution_count": 7,
   "metadata": {
    "id": "d5d9d9d9"
   },
   "outputs": [],
   "source": [
    "# # Encode Location\n",
    "\n",
    "# OPTION 3: One hot encoding splitting by countries and cities in the US and selecting TOP X most frequent locations\n",
    "\n",
    "# Encode location for different countries and for cities in the US\n",
    "levels_df['country'] = levels_df.location.str.split(pat=',').apply(lambda x:x[-1][1:])\n",
    "levels_df.loc[levels_df.country.str.len() == 2,'country'] = 'US'\n",
    "\n",
    "# Encode Countries: Find countries with more than X instances\n",
    "# TODO: decide which countries we want to keep\n",
    "country_threshold = 1000 # countries with more than 1000 instances\n",
    "top_countries = levels_df[levels_df['country'].isin(levels_df['country'].value_counts()[levels_df['country'].value_counts() > country_threshold].index)].country.unique()\n",
    "top_countries = top_countries.tolist()\n",
    "\n",
    "# Join countries\n",
    "levels_df = levels_df.join(pd.get_dummies(levels_df.country)[top_countries])\n",
    "\n",
    "# Encode US cities: Find cities with more than X instances \n",
    "# TODO: decide which US cities we want to keep\n",
    "city_threshold = 1000 # cities with more than 1000 instances\n",
    "top_us_cities = levels_df[levels_df['location'].isin(levels_df[levels_df['US']==1]['location'].value_counts()[levels_df[levels_df['US']==1]['location'].value_counts() > city_threshold].index)].location.unique()\n",
    "top_us_cities = top_us_cities.tolist()\n",
    "\n",
    "# Join US cities\n",
    "levels_df = levels_df.join(pd.get_dummies(levels_df.location)[top_us_cities])\n",
    "\n",
    "# Optional\n",
    "levels_df.drop(['cityid', 'location', 'country'], axis=1, inplace=True)\n"
   ]
  },
  {
   "cell_type": "code",
   "execution_count": 8,
   "metadata": {
    "id": "5af78754"
   },
   "outputs": [],
   "source": [
    "# Encode Race\n",
    "levels_df.drop(labels=['Race_Asian', 'Race_White', 'Race_Two_Or_More', 'Race_Black', 'Race_Hispanic'], axis=1, inplace=True)\n",
    "levels_df = levels_df.join(pd.get_dummies(levels_df.Race))\n",
    "\n",
    "# Encode Gender\n",
    "levels_df = levels_df.join(pd.get_dummies(levels_df.gender))\n",
    "\n",
    "# Optional\n",
    "levels_df.drop(['Race', 'gender'], axis=1, inplace=True)\n"
   ]
  },
  {
   "cell_type": "code",
   "execution_count": 9,
   "metadata": {
    "id": "5f22dff9"
   },
   "outputs": [],
   "source": [
    "# Encode Title\n",
    "stem_titles = ['Product Manager','Software Engineer',\n",
    "'Software Engineering Manager',\n",
    " 'Data Scientist',\n",
    " 'Solution Architect',\n",
    " 'Technical Program Manager',\n",
    " 'Hardware Engineer',\n",
    " 'Mechanical Engineer']\n",
    "\n",
    "levels_df = levels_df.join(pd.get_dummies(levels_df.title)[stem_titles])\n",
    "# levels_df = levels_df.join(pd.get_dummies(levels_df.title))\n",
    "\n",
    "# Optional\n",
    "levels_df.drop(['title'], axis=1, inplace=True)\n"
   ]
  },
  {
   "cell_type": "code",
   "execution_count": 10,
   "metadata": {
    "id": "d12a55b5"
   },
   "outputs": [],
   "source": [
    "# Encode Education\n",
    "levels_df.drop(labels=['Masters_Degree', 'Bachelors_Degree', 'Doctorate_Degree', 'Highschool', 'Some_College'], axis=1, inplace=True)\n",
    "\n",
    "# OPTION 0: hot encoding and use all columns\n",
    "\n",
    "# OPTION 1: Ordinal Encoding\n",
    "education_scale_map = {\"Unknown_degree\":0, \"Highschool\":1, \"Some College\":2, \"Bachelor's Degree\":3, \"Master's Degree\":4, \"PhD\":5}\n",
    "levels_df['Education'] = levels_df['Education'].replace(education_scale_map)\n",
    "\n",
    "# OPTION 2: Hot encoding\n",
    "# levels_df = levels_df.join(pd.get_dummies(levels_df.Education))\n",
    "# levels_df.drop(['Education'], axis=1, inplace=True)\n"
   ]
  },
  {
   "cell_type": "code",
   "execution_count": 11,
   "metadata": {
    "id": "c614ea27"
   },
   "outputs": [],
   "source": [
    "# Encode Company\n",
    "\n",
    "# OPTION 0: hot encoding and use all columns\n",
    "# levels_df = levels_df.join(pd.get_dummies(levels_df.std_company_name))\n",
    "\n",
    "# # OPTION 1: Binary Encoding\n",
    "# # Requires to install category_encoders run: pip install category_encoders\n",
    "# # Using Binary Encoding Reference: https://www.analyticsvidhya.com/blog/2020/08/types-of-categorical-data-encoding/\n",
    "\n",
    "# binary_encoder = ce.BinaryEncoder(cols=['std_company_name'], return_df=True)\n",
    "# levels_df = encoder.fit_transform(levels_df)\n",
    "\n",
    "# OPTION 2: Hot encoding the TOP X most frequent companies\n",
    "company_threshold = 100 # companies with more than X instances\n",
    "top_companies = levels_df[levels_df['std_company_name'].isin(levels_df['std_company_name'].value_counts()[levels_df['std_company_name'].value_counts() > company_threshold].index)].std_company_name.unique()\n",
    "top_companies = top_companies.tolist()\n",
    "# Join top companies\n",
    "levels_df = levels_df.join(pd.get_dummies(levels_df.std_company_name)[top_companies])\n",
    "\n",
    "# Optional\n",
    "levels_df.drop(['company'], axis=1, inplace=True)\n"
   ]
  },
  {
   "cell_type": "code",
   "execution_count": 12,
   "metadata": {
    "id": "5bd59da5"
   },
   "outputs": [],
   "source": [
    "# OPTIONAL: Dropping values for not relevant/encoded features:\n",
    "# 'tag', 'otherdetails', 'dmaid', 'rowNumber' -> not relevant or replicable from user inputs\n",
    "\n",
    "levels_df.drop(['tag', 'otherdetails', 'dmaid', 'rowNumber'], axis=1, inplace=True)\n"
   ]
  },
  {
   "cell_type": "code",
   "execution_count": 13,
   "metadata": {
    "colab": {
     "base_uri": "https://localhost:8080/"
    },
    "id": "55744eab",
    "outputId": "c56c0ac3-09ae-491f-ae27-b31536ab158f"
   },
   "outputs": [
    {
     "name": "stdout",
     "output_type": "stream",
     "text": [
      "['timestamp', 'level', 'totalyearlycompensation', 'yearsofexperience', 'yearsatcompany', 'basesalary', 'stockgrantvalue', 'bonus', 'Education', 'std_company_name', 'US', 'United Kingdom', 'India', 'Canada', 'San Francisco, CA', 'Seattle, WA', 'Sunnyvale, CA', 'Mountain View, CA', 'Redmond, WA', 'Menlo Park, CA', 'Cupertino, CA', 'New York, NY', 'San Jose, CA', 'Palo Alto, CA', 'Austin, TX', 'Boston, MA', 'Santa Clara, CA', 'Asian', 'Black', 'Hispanic', 'Two_Or_More_race', 'Unknown_race', 'White', 'Female', 'Male', 'Other_gender', 'Unknown_gender', 'Product Manager', 'Software Engineer', 'Software Engineering Manager', 'Data Scientist', 'Solution Architect', 'Technical Program Manager', 'Hardware Engineer', 'Mechanical Engineer', 'oracle', 'ebay', 'amazon', 'apple', 'microsoft', 'salesforce', 'facebook', 'uber', 'google', 'netflix', 'pinterest', 'linkedin', 'adobe', 'intel', 'lyft', 'yelp', 'airbnb', 'sap', 'vmware', 'twitter', 'cisco', 'dropbox', 'ibm', 'walmart_labs', 'twilio', 'qualcomm', 'tesla', 'expedia', 'yahoo', 'intuit', 'bloomberg', 'yandex', 'capital_one', 'workday', 'splunk', 'samsung', 'autodesk', 'dell_technologies', 'box', 'booking.com', 'paypal', 'atlassian', 'indeed', 'shopify', 'accenture', 'nvidia', 'snap', 'square', 'nutanix', 'spotify', 'zillow', 'godaddy', 't-mobile', 'goldman_sachs', 'cruise', 'qualtrics', 'northrop_grumman', 'deloitte', 'jpmorgan_chase', 'wayfair', 'boeing', 'ernst_and_young', 'comcast', 'american_express', 'broadcom', 'general_motors', 'stripe', 'servicenow', 'visa', 'walmart', 'epam_systems', 'morgan_stanley', 'amd', 'doordash', 'instacart', 'lockheed_martin', 'pwc', 'bytedance']\n"
     ]
    }
   ],
   "source": [
    "# Current available columns\n",
    "print(levels_df.columns.tolist())"
   ]
  },
  {
   "cell_type": "markdown",
   "metadata": {
    "id": "e4922d19"
   },
   "source": [
    "## Models:\n"
   ]
  },
  {
   "cell_type": "code",
   "execution_count": 14,
   "metadata": {
    "id": "q4Bo46iCB5Yd"
   },
   "outputs": [],
   "source": [
    "from sklearn.model_selection import train_test_split\n",
    "\n",
    "y = levels_df[\"totalyearlycompensation\"]\n",
    "X = levels_df.drop([\"totalyearlycompensation\"], axis=1)\n",
    "X = X.drop([\"timestamp\"], axis=1)\n",
    "X = X.drop([\"level\"], axis=1)\n",
    "X = X.drop([\"std_company_name\"], axis=1)\n",
    "X = X.drop([\"basesalary\"], axis=1)\n",
    "X = X.drop([\"stockgrantvalue\"], axis=1)\n",
    "X = X.drop([\"bonus\"], axis=1)\n",
    "X_train, X_test, y_train, y_test = train_test_split(X, y, test_size=0.3, random_state=42)"
   ]
  },
  {
   "cell_type": "code",
   "execution_count": 15,
   "metadata": {},
   "outputs": [
    {
     "data": {
      "text/plain": [
       "116"
      ]
     },
     "execution_count": 15,
     "metadata": {},
     "output_type": "execute_result"
    }
   ],
   "source": [
    "# Changing options to display full result\n",
    "pd.set_option(\"display.max_rows\", None, \"display.max_columns\", None)\n",
    "pd.set_option('display.max_colwidth', None)\n",
    "\n",
    "# Print np arrays without truncation\n",
    "np.set_printoptions(threshold=np.inf)\n",
    "\n",
    "# 2 decimals for operations in pandas\n",
    "pd.set_option('precision', 2)\n",
    "\n",
    "X.dtypes.size"
   ]
  },
  {
   "cell_type": "code",
   "execution_count": 50,
   "metadata": {
    "colab": {
     "base_uri": "https://localhost:8080/"
    },
    "id": "Vl6MyiKgDaZC",
    "outputId": "951ff4e9-406f-4c0f-d23d-7abf2815e5b8"
   },
   "outputs": [
    {
     "data": {
      "text/plain": [
       "0.5101592537438764"
      ]
     },
     "execution_count": 50,
     "metadata": {},
     "output_type": "execute_result"
    }
   ],
   "source": [
    "from sklearn.linear_model import LinearRegression\n",
    "\n",
    "lin_reg = LinearRegression().fit(X_train, y_train)\n",
    "y_pred = lin_reg.predict(X_test)\n",
    "\n",
    "from sklearn.metrics import r2_score\n",
    "\n",
    "r2_score(y_test, y_pred)"
   ]
  },
  {
   "cell_type": "code",
   "execution_count": 51,
   "metadata": {
    "colab": {
     "base_uri": "https://localhost:8080/"
    },
    "id": "EWLfT3DphK7o",
    "outputId": "634271e0-90b0-4e7c-8856-d09957809b7e"
   },
   "outputs": [
    {
     "data": {
      "text/plain": [
       "0.04153297788123478"
      ]
     },
     "execution_count": 51,
     "metadata": {},
     "output_type": "execute_result"
    }
   ],
   "source": [
    "from sklearn.tree import DecisionTreeRegressor \n",
    "\n",
    "dt_reg = DecisionTreeRegressor(random_state = 0).fit(X_train, y_train)\n",
    "y_pred = dt_reg.predict(X_test)\n",
    "\n",
    "r2_score(y_test, y_pred)"
   ]
  },
  {
   "cell_type": "code",
   "execution_count": 52,
   "metadata": {
    "colab": {
     "base_uri": "https://localhost:8080/"
    },
    "id": "T1e_SusShqdM",
    "outputId": "163ed939-f1e6-4362-bd54-4fd154f089e7"
   },
   "outputs": [
    {
     "data": {
      "text/plain": [
       "0.5496502900150084"
      ]
     },
     "execution_count": 52,
     "metadata": {},
     "output_type": "execute_result"
    }
   ],
   "source": [
    "from sklearn.ensemble import GradientBoostingRegressor\n",
    "\n",
    "gbr = GradientBoostingRegressor(n_estimators=400, \n",
    "    max_depth=5, \n",
    "    learning_rate=0.1, \n",
    "    min_samples_split=3).fit(X_train, y_train)\n",
    "\n",
    "y_pred = gbr.predict(X_test)\n",
    "\n",
    "r2_score(y_test, y_pred)"
   ]
  },
  {
   "cell_type": "markdown",
   "metadata": {},
   "source": [
    "## Model Tuning: Grid Search"
   ]
  },
  {
   "cell_type": "code",
   "execution_count": 53,
   "metadata": {
    "colab": {
     "background_save": true
    },
    "id": "p3H3MgPNkwxc",
    "outputId": "53fb2baf-3541-46a4-a817-d5753626adb6"
   },
   "outputs": [
    {
     "data": {
      "text/plain": [
       "GridSearchCV(cv=5,\n",
       "             estimator=GradientBoostingRegressor(max_depth=5,\n",
       "                                                 min_samples_split=3),\n",
       "             n_jobs=4, param_grid={'n_estimators': range(100, 1000, 100)},\n",
       "             scoring='r2')"
      ]
     },
     "execution_count": 53,
     "metadata": {},
     "output_type": "execute_result"
    }
   ],
   "source": [
    "from sklearn.model_selection import GridSearchCV\n",
    "param_test1 = {'n_estimators':range(100,1000,100)}\n",
    "gsearch1 = GridSearchCV(estimator = GradientBoostingRegressor(max_depth=5, \n",
    "    learning_rate=0.1, \n",
    "    min_samples_split=3), \n",
    "param_grid = param_test1, scoring='r2',n_jobs=4, cv=5)\n",
    "gsearch1.fit(X_train,y_train)"
   ]
  },
  {
   "cell_type": "code",
   "execution_count": 54,
   "metadata": {
    "colab": {
     "base_uri": "https://localhost:8080/"
    },
    "id": "ruJD7fCK1TgU",
    "outputId": "868008fb-9857-4314-a22a-a8b5fa4fd4b0"
   },
   "outputs": [
    {
     "data": {
      "text/plain": [
       "({'n_estimators': 300}, 0.54770390407449)"
      ]
     },
     "execution_count": 54,
     "metadata": {},
     "output_type": "execute_result"
    }
   ],
   "source": [
    "gsearch1.best_params_, gsearch1.best_score_"
   ]
  },
  {
   "cell_type": "code",
   "execution_count": 55,
   "metadata": {
    "colab": {
     "base_uri": "https://localhost:8080/"
    },
    "id": "Zm1N12s7XTt6",
    "outputId": "8dc8677e-0469-481d-dcad-5a926833759b"
   },
   "outputs": [
    {
     "data": {
      "text/plain": [
       "0.5536605605554594"
      ]
     },
     "execution_count": 55,
     "metadata": {},
     "output_type": "execute_result"
    }
   ],
   "source": [
    "y_pred = gsearch1.predict(X_test)\n",
    "r2_score(y_test, y_pred)"
   ]
  },
  {
   "cell_type": "code",
   "execution_count": null,
   "metadata": {
    "id": "1-by5BoT1D1r"
   },
   "outputs": [],
   "source": [
    "param_test2 = {'max_depth':range(5,10,2), 'min_samples_split':range(10,100,10)}\n",
    "gsearch2 = GridSearchCV(estimator = GradientBoostingRegressor(learning_rate=0.1, n_estimators=400), \n",
    "param_grid = param_test2, scoring='r2',n_jobs=4, cv=5)\n",
    "gsearch2.fit(X_train,y_train)\n",
    "gsearch2.best_params_, gsearch2.best_score_"
   ]
  },
  {
   "cell_type": "markdown",
   "metadata": {},
   "source": [
    "## Dump Models"
   ]
  },
  {
   "cell_type": "code",
   "execution_count": null,
   "metadata": {
    "colab": {
     "base_uri": "https://localhost:8080/",
     "height": 17
    },
    "id": "xp-ZesVf0b29",
    "outputId": "c296d678-8524-40c2-f7e2-6b0b95730c33"
   },
   "outputs": [
    {
     "data": {
      "application/javascript": [
       "\n",
       "    async function download(id, filename, size) {\n",
       "      if (!google.colab.kernel.accessAllowed) {\n",
       "        return;\n",
       "      }\n",
       "      const div = document.createElement('div');\n",
       "      const label = document.createElement('label');\n",
       "      label.textContent = `Downloading \"${filename}\": `;\n",
       "      div.appendChild(label);\n",
       "      const progress = document.createElement('progress');\n",
       "      progress.max = size;\n",
       "      div.appendChild(progress);\n",
       "      document.body.appendChild(div);\n",
       "\n",
       "      const buffers = [];\n",
       "      let downloaded = 0;\n",
       "\n",
       "      const channel = await google.colab.kernel.comms.open(id);\n",
       "      // Send a message to notify the kernel that we're ready.\n",
       "      channel.send({})\n",
       "\n",
       "      for await (const message of channel.messages) {\n",
       "        // Send a message to notify the kernel that we're ready.\n",
       "        channel.send({})\n",
       "        if (message.buffers) {\n",
       "          for (const buffer of message.buffers) {\n",
       "            buffers.push(buffer);\n",
       "            downloaded += buffer.byteLength;\n",
       "            progress.value = downloaded;\n",
       "          }\n",
       "        }\n",
       "      }\n",
       "      const blob = new Blob(buffers, {type: 'application/binary'});\n",
       "      const a = document.createElement('a');\n",
       "      a.href = window.URL.createObjectURL(blob);\n",
       "      a.download = filename;\n",
       "      div.appendChild(a);\n",
       "      a.click();\n",
       "      div.remove();\n",
       "    }\n",
       "  "
      ],
      "text/plain": [
       "<IPython.core.display.Javascript object>"
      ]
     },
     "metadata": {},
     "output_type": "display_data"
    },
    {
     "data": {
      "application/javascript": [
       "download(\"download_f222a3da-55ee-4902-ae75-70e87162db19\", \"gsearch400.joblib\", 1915607)"
      ],
      "text/plain": [
       "<IPython.core.display.Javascript object>"
      ]
     },
     "metadata": {},
     "output_type": "display_data"
    }
   ],
   "source": [
    "from joblib import dump, load\n",
    "\n",
    "dump(gbr, 'totalcomp_gbr_gender_race.joblib')\n",
    "dump(gsearch1, 'totalcomp_gbr_tuned_gender_race.joblib')\n",
    "\n",
    "# from google.colab import files\n",
    "# files.download('totalcomp_gbr_w_gender_race.joblib')"
   ]
  },
  {
   "cell_type": "code",
   "execution_count": 16,
   "metadata": {
    "colab": {
     "base_uri": "https://localhost:8080/"
    },
    "id": "5_CoiAST3KYD",
    "outputId": "02102e65-20cc-44b4-c147-34d2ffc82824"
   },
   "outputs": [],
   "source": [
    "model = load('totalcomp_gbr_tuned_gender_race.joblib')\n",
    "\n",
    "y_pred = model.predict(X_test)\n",
    "r2_score(y_test, y_pred)"
   ]
  },
  {
   "cell_type": "code",
   "execution_count": null,
   "metadata": {},
   "outputs": [],
   "source": []
  }
 ],
 "metadata": {
  "colab": {
   "collapsed_sections": [],
   "name": "WGenderRace.ipynb",
   "provenance": []
  },
  "kernelspec": {
   "display_name": "Python 3 (ipykernel)",
   "language": "python",
   "name": "python3"
  },
  "language_info": {
   "codemirror_mode": {
    "name": "ipython",
    "version": 3
   },
   "file_extension": ".py",
   "mimetype": "text/x-python",
   "name": "python",
   "nbconvert_exporter": "python",
   "pygments_lexer": "ipython3",
   "version": "3.9.7"
  }
 },
 "nbformat": 4,
 "nbformat_minor": 1
}
