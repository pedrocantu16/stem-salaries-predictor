{
 "cells": [
  {
   "cell_type": "code",
   "execution_count": 1,
   "metadata": {
    "id": "5iE3pAZ2BZ7v"
   },
   "outputs": [],
   "source": [
    "# Import libraries\n",
    "import pandas as pd\n",
    "import numpy as np\n",
    "import matplotlib.pyplot as plt\n",
    "import seaborn as sns\n",
    "import plotly.express as px\n",
    "from sklearn import preprocessing, feature_selection\n",
    "%matplotlib inline\n",
    "from IPython.display import Markdown, display"
   ]
  },
  {
   "cell_type": "code",
   "execution_count": 14,
   "metadata": {
    "id": "90572183"
   },
   "outputs": [],
   "source": [
    "# Reading datasets\n",
    "\n",
    "levels_df = pd.read_csv('https://raw.github.ccs.neu.edu/pantu16/cs6620_peiling_yuting_pedro/main/data/levels_fyi_salary_data.csv?token=AAABOLP6YVPNZECODFFF723CMZ6XM')\n",
    "\n"
   ]
  },
  {
   "cell_type": "code",
   "execution_count": 3,
   "metadata": {
    "colab": {
     "base_uri": "https://localhost:8080/"
    },
    "id": "0ba97d30",
    "outputId": "9f664c5f-f9c7-4dd1-94e5-d0e8d03e8158"
   },
   "outputs": [
    {
     "data": {
      "text/plain": [
       "timestamp                   object\n",
       "company                     object\n",
       "level                       object\n",
       "title                       object\n",
       "totalyearlycompensation      int64\n",
       "location                    object\n",
       "yearsofexperience          float64\n",
       "yearsatcompany             float64\n",
       "tag                         object\n",
       "basesalary                 float64\n",
       "stockgrantvalue            float64\n",
       "bonus                      float64\n",
       "gender                      object\n",
       "otherdetails                object\n",
       "cityid                       int64\n",
       "dmaid                      float64\n",
       "rowNumber                    int64\n",
       "Masters_Degree               int64\n",
       "Bachelors_Degree             int64\n",
       "Doctorate_Degree             int64\n",
       "Highschool                   int64\n",
       "Some_College                 int64\n",
       "Race_Asian                   int64\n",
       "Race_White                   int64\n",
       "Race_Two_Or_More             int64\n",
       "Race_Black                   int64\n",
       "Race_Hispanic                int64\n",
       "Race                        object\n",
       "Education                   object\n",
       "dtype: object"
      ]
     },
     "execution_count": 3,
     "metadata": {},
     "output_type": "execute_result"
    }
   ],
   "source": [
    "levels_df.dtypes"
   ]
  },
  {
   "cell_type": "code",
   "execution_count": 4,
   "metadata": {
    "colab": {
     "base_uri": "https://localhost:8080/"
    },
    "id": "3d4ce57e",
    "outputId": "47ce44b0-26d3-40a3-e7e0-66135a387091"
   },
   "outputs": [
    {
     "data": {
      "text/plain": [
       "timestamp                      0\n",
       "company                        5\n",
       "level                        119\n",
       "title                          0\n",
       "totalyearlycompensation        0\n",
       "location                       0\n",
       "yearsofexperience              0\n",
       "yearsatcompany                 0\n",
       "tag                          854\n",
       "basesalary                     0\n",
       "stockgrantvalue                0\n",
       "bonus                          0\n",
       "gender                     19540\n",
       "otherdetails               22505\n",
       "cityid                         0\n",
       "dmaid                          2\n",
       "rowNumber                      0\n",
       "Masters_Degree                 0\n",
       "Bachelors_Degree               0\n",
       "Doctorate_Degree               0\n",
       "Highschool                     0\n",
       "Some_College                   0\n",
       "Race_Asian                     0\n",
       "Race_White                     0\n",
       "Race_Two_Or_More               0\n",
       "Race_Black                     0\n",
       "Race_Hispanic                  0\n",
       "Race                       40215\n",
       "Education                  32272\n",
       "dtype: int64"
      ]
     },
     "execution_count": 4,
     "metadata": {},
     "output_type": "execute_result"
    }
   ],
   "source": [
    "# Count of NaNs\n",
    "levels_df.isna().sum()"
   ]
  },
  {
   "cell_type": "code",
   "execution_count": 15,
   "metadata": {
    "colab": {
     "base_uri": "https://localhost:8080/"
    },
    "id": "c1561ebc",
    "outputId": "cc9774ff-b73f-4574-b181-d222389dd5ed"
   },
   "outputs": [
    {
     "data": {
      "text/plain": [
       "timestamp                  0\n",
       "company                    0\n",
       "level                      0\n",
       "title                      0\n",
       "totalyearlycompensation    0\n",
       "location                   0\n",
       "yearsofexperience          0\n",
       "yearsatcompany             0\n",
       "tag                        0\n",
       "basesalary                 0\n",
       "stockgrantvalue            0\n",
       "bonus                      0\n",
       "gender                     0\n",
       "otherdetails               0\n",
       "cityid                     0\n",
       "dmaid                      0\n",
       "rowNumber                  0\n",
       "Masters_Degree             0\n",
       "Bachelors_Degree           0\n",
       "Doctorate_Degree           0\n",
       "Highschool                 0\n",
       "Some_College               0\n",
       "Race_Asian                 0\n",
       "Race_White                 0\n",
       "Race_Two_Or_More           0\n",
       "Race_Black                 0\n",
       "Race_Hispanic              0\n",
       "Race                       0\n",
       "Education                  0\n",
       "std_company_name           0\n",
       "dtype: int64"
      ]
     },
     "execution_count": 15,
     "metadata": {},
     "output_type": "execute_result"
    }
   ],
   "source": [
    "# 'Company': Drop NaN values since there is no way to infer company\n",
    "levels_df.dropna(subset = ['company'], inplace=True)\n",
    "\n",
    "# Refactor Companies' names to avoid duplication with misspelled names\n",
    "# Reducing unique companies' names from 1631 to 1100\n",
    "levels_df['std_company_name'] = levels_df['company'].map(lambda x: x.strip().lower().replace(\" \", \"_\"))\n",
    "\n",
    "# Replace NaN values in categorical features with \"Unknown\" to avoid dropping rows\n",
    "features_to_replace = {'level': np.nan,\n",
    "                   'tag': np.nan,\n",
    "                    'gender': np.nan,\n",
    "                    'otherdetails': np.nan,\n",
    "                    'Race': np.nan,\n",
    "                   'Education': np.nan}\n",
    "\n",
    "replacement_values = {'level': 'Unknown_level',\n",
    "                   'tag': 'Unknown_tag',\n",
    "                    'gender': 'Unknown_gender',\n",
    "                    'otherdetails': 'No_details',\n",
    "                    'Race': 'Unknown_race',\n",
    "                   'Education': 'Unknown_degree'}\n",
    "\n",
    "levels_df.replace(to_replace=features_to_replace,\n",
    "                  value=replacement_values,\n",
    "                  inplace=True)\n",
    "\n",
    "# 'dmid' replace NA values with 0\n",
    "levels_df['dmaid'].fillna(0, inplace=True)\n",
    "\n",
    "# 'gender' rename random value\n",
    "levels_df['gender'] = levels_df['gender'].replace('Title: Senior Software Engineer','Unknown_gender')\n",
    "levels_df['gender'] = levels_df['gender'].replace('Other','Other_gender')\n",
    "\n",
    "# 'Race' rename\n",
    "levels_df['Race'] = levels_df['Race'].replace('Two Or More','Two_Or_More_race')\n",
    "\n",
    "# Count of NaNs\n",
    "levels_df.isna().sum()"
   ]
  },
  {
   "cell_type": "code",
   "execution_count": 16,
   "metadata": {
    "colab": {
     "base_uri": "https://localhost:8080/"
    },
    "id": "877ba9d1",
    "outputId": "295b3bc0-5d6b-4d9a-9701-d8c1c5a80b01"
   },
   "outputs": [
    {
     "data": {
      "text/plain": [
       "timestamp                  datetime64[ns]\n",
       "company                            object\n",
       "level                              object\n",
       "title                              object\n",
       "totalyearlycompensation             int64\n",
       "location                           object\n",
       "yearsofexperience                 float64\n",
       "yearsatcompany                    float64\n",
       "tag                                object\n",
       "basesalary                        float64\n",
       "stockgrantvalue                   float64\n",
       "bonus                             float64\n",
       "gender                             object\n",
       "otherdetails                       object\n",
       "cityid                              int64\n",
       "dmaid                             float64\n",
       "rowNumber                           int64\n",
       "Masters_Degree                      int64\n",
       "Bachelors_Degree                    int64\n",
       "Doctorate_Degree                    int64\n",
       "Highschool                          int64\n",
       "Some_College                        int64\n",
       "Race_Asian                          int64\n",
       "Race_White                          int64\n",
       "Race_Two_Or_More                    int64\n",
       "Race_Black                          int64\n",
       "Race_Hispanic                       int64\n",
       "Race                               object\n",
       "Education                          object\n",
       "std_company_name                   object\n",
       "dtype: object"
      ]
     },
     "execution_count": 16,
     "metadata": {},
     "output_type": "execute_result"
    }
   ],
   "source": [
    "# Converting timestamp to datetime64\n",
    "\n",
    "levels_df['timestamp'] = pd.to_datetime(levels_df['timestamp'])\n",
    "levels_df.dtypes\n"
   ]
  },
  {
   "cell_type": "markdown",
   "metadata": {},
   "source": [
    "## Undersampling Top Companies\n",
    "#### Companies representing 'majority' in the dataset"
   ]
  },
  {
   "cell_type": "code",
   "execution_count": 17,
   "metadata": {},
   "outputs": [
    {
     "data": {
      "text/plain": [
       "amazon       8199\n",
       "microsoft    5241\n",
       "google       4363\n",
       "facebook     3004\n",
       "apple        2047\n",
       "Name: std_company_name, dtype: int64"
      ]
     },
     "metadata": {},
     "output_type": "display_data"
    },
    {
     "data": {
      "text/plain": [
       "microsoft    4858\n",
       "amazon       4161\n",
       "google       4001\n",
       "facebook     3004\n",
       "apple        2047\n",
       "Name: std_company_name, dtype: int64"
      ]
     },
     "metadata": {},
     "output_type": "display_data"
    }
   ],
   "source": [
    "# Majority Companies\n",
    "display(levels_df['std_company_name'].value_counts()[:5])\n",
    "\n",
    "# Amazon\n",
    "levels_df.drop(levels_df[(levels_df['std_company_name'] == 'amazon') & (levels_df['bonus'] == 0)].index, inplace = True)\n",
    "\n",
    "# Microsoft\n",
    "levels_df.drop(levels_df[(levels_df['std_company_name'] == 'microsoft') & ((levels_df['bonus'] == 0) | (levels_df['basesalary'] == 0) | (levels_df['stockgrantvalue'] == 0))].index, inplace = True)\n",
    "\n",
    "# Google\n",
    "levels_df.drop(levels_df[(levels_df['std_company_name'] == 'google') & ((levels_df['bonus'] == 0) | (levels_df['basesalary'] == 0) | (levels_df['stockgrantvalue'] == 0))].index, inplace = True)\n",
    "\n",
    "# Majority Companies\n",
    "display(levels_df['std_company_name'].value_counts()[:5])"
   ]
  },
  {
   "cell_type": "markdown",
   "metadata": {
    "id": "4195e216"
   },
   "source": [
    "### Feature Selection"
   ]
  },
  {
   "cell_type": "code",
   "execution_count": 18,
   "metadata": {
    "colab": {
     "base_uri": "https://localhost:8080/",
     "height": 617
    },
    "id": "6b23768e",
    "outputId": "e8b55af0-910c-481c-8bb9-5654e3e7ee7a"
   },
   "outputs": [
    {
     "data": {
      "image/png": "[encoded data removed]",
      "text/plain": [
       "<Figure size 864x576 with 2 Axes>"
      ]
     },
     "metadata": {
      "needs_background": "light"
     },
     "output_type": "display_data"
    }
   ],
   "source": [
    "# Correlation Matrix\n",
    "\n",
    "plt.figure(figsize=(12,8))\n",
    "sns.heatmap(levels_df.corr(), cmap=\"RdBu\")\n",
    "plt.title(\"Correlations Matrix\", size=17)\n",
    "plt.show()"
   ]
  },
  {
   "cell_type": "code",
   "execution_count": 19,
   "metadata": {
    "colab": {
     "base_uri": "https://localhost:8080/",
     "height": 614
    },
    "id": "35823b38",
    "outputId": "f9946ee4-44fa-4ae5-88b8-cf7065cb51cd"
   },
   "outputs": [
    {
     "data": {
      "text/html": [
       "<div>\n",
       "<style scoped>\n",
       "    .dataframe tbody tr th:only-of-type {\n",
       "        vertical-align: middle;\n",
       "    }\n",
       "\n",
       "    .dataframe tbody tr th {\n",
       "        vertical-align: top;\n",
       "    }\n",
       "\n",
       "    .dataframe thead th {\n",
       "        text-align: right;\n",
       "    }\n",
       "</style>\n",
       "<table border=\"1\" class=\"dataframe\">\n",
       "  <thead>\n",
       "    <tr style=\"text-align: right;\">\n",
       "      <th></th>\n",
       "      <th>MutualInfo</th>\n",
       "    </tr>\n",
       "  </thead>\n",
       "  <tbody>\n",
       "    <tr>\n",
       "      <th>cityid</th>\n",
       "      <td>0.340497</td>\n",
       "    </tr>\n",
       "    <tr>\n",
       "      <th>dmaid</th>\n",
       "      <td>0.274513</td>\n",
       "    </tr>\n",
       "    <tr>\n",
       "      <th>yearsofexperience</th>\n",
       "      <td>0.139311</td>\n",
       "    </tr>\n",
       "    <tr>\n",
       "      <th>rowNumber</th>\n",
       "      <td>0.035297</td>\n",
       "    </tr>\n",
       "    <tr>\n",
       "      <th>yearsatcompany</th>\n",
       "      <td>0.030854</td>\n",
       "    </tr>\n",
       "    <tr>\n",
       "      <th>Bachelors_Degree</th>\n",
       "      <td>0.021699</td>\n",
       "    </tr>\n",
       "    <tr>\n",
       "      <th>Race_Asian</th>\n",
       "      <td>0.009057</td>\n",
       "    </tr>\n",
       "    <tr>\n",
       "      <th>Doctorate_Degree</th>\n",
       "      <td>0.008596</td>\n",
       "    </tr>\n",
       "    <tr>\n",
       "      <th>Some_College</th>\n",
       "      <td>0.004868</td>\n",
       "    </tr>\n",
       "    <tr>\n",
       "      <th>Race_White</th>\n",
       "      <td>0.004174</td>\n",
       "    </tr>\n",
       "    <tr>\n",
       "      <th>Race_Black</th>\n",
       "      <td>0.000698</td>\n",
       "    </tr>\n",
       "    <tr>\n",
       "      <th>Masters_Degree</th>\n",
       "      <td>0.000000</td>\n",
       "    </tr>\n",
       "    <tr>\n",
       "      <th>Highschool</th>\n",
       "      <td>0.000000</td>\n",
       "    </tr>\n",
       "    <tr>\n",
       "      <th>Race_Two_Or_More</th>\n",
       "      <td>0.000000</td>\n",
       "    </tr>\n",
       "    <tr>\n",
       "      <th>Race_Hispanic</th>\n",
       "      <td>0.000000</td>\n",
       "    </tr>\n",
       "  </tbody>\n",
       "</table>\n",
       "</div>"
      ],
      "text/plain": [
       "                   MutualInfo\n",
       "cityid               0.340497\n",
       "dmaid                0.274513\n",
       "yearsofexperience    0.139311\n",
       "rowNumber            0.035297\n",
       "yearsatcompany       0.030854\n",
       "Bachelors_Degree     0.021699\n",
       "Race_Asian           0.009057\n",
       "Doctorate_Degree     0.008596\n",
       "Some_College         0.004868\n",
       "Race_White           0.004174\n",
       "Race_Black           0.000698\n",
       "Masters_Degree       0.000000\n",
       "Highschool           0.000000\n",
       "Race_Two_Or_More     0.000000\n",
       "Race_Hispanic        0.000000"
      ]
     },
     "execution_count": 19,
     "metadata": {},
     "output_type": "execute_result"
    }
   ],
   "source": [
    "# Mutual Information with standardized numeric features and totalyearlycompensation as target variable\n",
    "\n",
    "# Select numeric features, drop base salary\n",
    "numeric_features_df = levels_df.select_dtypes(include=np.number).copy()\n",
    "# Drop totalyearlycompensation, bonu, stockgrantvalue since prediction will be made for basesalary\n",
    "numeric_features_df.drop(labels=['basesalary', 'totalyearlycompensation', 'bonus', 'stockgrantvalue'], axis=1, inplace=True)\n",
    "numeric_features_names = numeric_features_df.columns.tolist()\n",
    "\n",
    "# Standardize\n",
    "numeric_features_std = preprocessing.scale(numeric_features_df)\n",
    "\n",
    "# Create a dataframe from ndnumpy array\n",
    "numeric_std_df = pd.DataFrame(numeric_features_std, columns=numeric_features_names)\n",
    "\n",
    "y_vector = levels_df['totalyearlycompensation']\n",
    "mutual_info_array = feature_selection.mutual_info_regression(X=numeric_std_df, y = y_vector)\n",
    "mutual_info_array\n",
    "\n",
    "# Building a dataframe with index = feature's name and column = 'MutualInfo'\n",
    "mutual_info_df = pd.DataFrame(mutual_info_array, columns=['MutualInfo'], index=numeric_features_names)\n",
    "mutual_info_df.sort_values(by='MutualInfo', ascending=False, inplace=True)\n",
    "mutual_info_df\n"
   ]
  },
  {
   "cell_type": "code",
   "execution_count": 116,
   "metadata": {
    "id": "78304aab"
   },
   "outputs": [],
   "source": [
    "# Encode Location, Since cityid is a relevant feature\n",
    "\n",
    "# OPTION 0: hot encoding and use all columns\n",
    "# levels_df = levels_df.join(pd.get_dummies(levels_df.location))\n",
    "\n",
    "# OPTION 1: Binary Encoding for location\n",
    "\n",
    "# Requires to install category_encoders run: pip install category_encoders\n",
    "# Using Binary Encoding Reference: https://www.analyticsvidhya.com/blog/2020/08/types-of-categorical-data-encoding/\n",
    "# https://contrib.scikit-learn.org/category_encoders/index.html\n",
    "\n",
    "# import category_encoders as ce\n",
    "\n",
    "# binary_encoder = ce.BinaryEncoder(cols=['location'], return_df=True)\n",
    "# levels_df = binary_encoder.fit_transform(levels_df)\n",
    "# levels_df.drop(['cityid'], axis=1, inplace=True)\n",
    "\n",
    "# levels_df.head(10)\n"
   ]
  },
  {
   "cell_type": "code",
   "execution_count": null,
   "metadata": {},
   "outputs": [],
   "source": [
    "# # Encode Location\n",
    "\n",
    "# # OPTION 2: One hot encoding TOP X most frequent locations \n",
    "# location_threshold = 1000 # locations with more than 1000 instances\n",
    "# top_locations = levels_df[levels_df['location'].isin(levels_df['location'].value_counts()[levels_df['location'].value_counts() > location_threshold].index)].location.unique()\n",
    "# top_locations = top_locations.tolist()\n",
    "\n",
    "# # Join locations\n",
    "# levels_df = levels_df.join(pd.get_dummies(levels_df.location)[top_locations])\n",
    "# levels_df.head()\n",
    "\n",
    "# # Optional\n",
    "# levels_df.drop(['cityid', 'location'], axis=1, inplace=True)"
   ]
  },
  {
   "cell_type": "code",
   "execution_count": 20,
   "metadata": {
    "id": "d5d9d9d9"
   },
   "outputs": [],
   "source": [
    "# Encode Location\n",
    "\n",
    "# OPTION 3: One hot encoding splitting by countries and cities in the US and selecting TOP X most frequent locations\n",
    "\n",
    "# Encode location for different countries and for cities in the US\n",
    "levels_df['country'] = levels_df.location.str.split(pat=',').apply(lambda x:x[-1][1:])\n",
    "levels_df.loc[levels_df.country.str.len() == 2,'country'] = 'US'\n",
    "\n",
    "# Encode Countries: Find countries with more than X instances\n",
    "# TODO: decide which countries we want to keep\n",
    "country_threshold = 1000 # countries with more than 1000 instances\n",
    "top_countries = levels_df[levels_df['country'].isin(levels_df['country'].value_counts()[levels_df['country'].value_counts() > country_threshold].index)].country.unique()\n",
    "top_countries = top_countries.tolist()\n",
    "\n",
    "# Join countries\n",
    "levels_df = levels_df.join(pd.get_dummies(levels_df.country)[top_countries])\n",
    "\n",
    "# Encode US cities: Find cities with more than X instances \n",
    "# TODO: decide which US cities we want to keep\n",
    "city_threshold = 1000 # cities with more than 1000 instances\n",
    "top_us_cities = levels_df[levels_df['location'].isin(levels_df[levels_df['US']==1]['location'].value_counts()[levels_df[levels_df['US']==1]['location'].value_counts() > city_threshold].index)].location.unique()\n",
    "top_us_cities = top_us_cities.tolist()\n",
    "\n",
    "# Join US cities\n",
    "levels_df = levels_df.join(pd.get_dummies(levels_df.location)[top_us_cities])\n",
    "\n",
    "# Optional\n",
    "levels_df.drop(['cityid', 'location', 'country'], axis=1, inplace=True)\n"
   ]
  },
  {
   "cell_type": "code",
   "execution_count": 21,
   "metadata": {
    "id": "5af78754"
   },
   "outputs": [],
   "source": [
    "# Encode Race\n",
    "levels_df.drop(labels=['Race_Asian', 'Race_White', 'Race_Two_Or_More', 'Race_Black', 'Race_Hispanic'], axis=1, inplace=True)\n",
    "#levels_df = levels_df.join(pd.get_dummies(levels_df.Race))\n",
    "\n",
    "# Encode Gender\n",
    "#levels_df = levels_df.join(pd.get_dummies(levels_df.gender))\n",
    "\n",
    "# Optional\n",
    "levels_df.drop(['Race', 'gender'], axis=1, inplace=True)\n"
   ]
  },
  {
   "cell_type": "code",
   "execution_count": 22,
   "metadata": {
    "id": "5f22dff9"
   },
   "outputs": [],
   "source": [
    "# Encode Title\n",
    "stem_titles = ['Product Manager','Software Engineer',\n",
    "'Software Engineering Manager',\n",
    " 'Data Scientist',\n",
    " 'Solution Architect',\n",
    " 'Technical Program Manager',\n",
    " 'Hardware Engineer',\n",
    " 'Mechanical Engineer']\n",
    "\n",
    "levels_df = levels_df.join(pd.get_dummies(levels_df.title)[stem_titles])\n",
    "# levels_df = levels_df.join(pd.get_dummies(levels_df.title))\n",
    "\n",
    "# Optional\n",
    "levels_df.drop(['title'], axis=1, inplace=True)\n"
   ]
  },
  {
   "cell_type": "code",
   "execution_count": 23,
   "metadata": {
    "id": "d12a55b5"
   },
   "outputs": [],
   "source": [
    "# Encode Education\n",
    "levels_df.drop(labels=['Masters_Degree', 'Bachelors_Degree', 'Doctorate_Degree', 'Highschool', 'Some_College'], axis=1, inplace=True)\n",
    "\n",
    "# OPTION 0: hot encoding and use all columns\n",
    "\n",
    "# OPTION 1: Ordinal Encoding\n",
    "education_scale_map = {\"Unknown_degree\":0, \"Highschool\":1, \"Some College\":2, \"Bachelor's Degree\":3, \"Master's Degree\":4, \"PhD\":5}\n",
    "levels_df['Education'] = levels_df['Education'].replace(education_scale_map)\n",
    "\n",
    "# OPTION 2: Hot encoding\n",
    "# levels_df = levels_df.join(pd.get_dummies(levels_df.Education))\n",
    "# levels_df.drop(['Education'], axis=1, inplace=True)\n"
   ]
  },
  {
   "cell_type": "code",
   "execution_count": 24,
   "metadata": {
    "id": "c614ea27"
   },
   "outputs": [],
   "source": [
    "# Encode Company\n",
    "\n",
    "# OPTION 0: hot encoding and use all columns\n",
    "# levels_df = levels_df.join(pd.get_dummies(levels_df.std_company_name))\n",
    "\n",
    "# OPTION 1: Binary Encoding\n",
    "# Requires to install category_encoders run: pip install category_encoders\n",
    "# Using Binary Encoding Reference: https://www.analyticsvidhya.com/blog/2020/08/types-of-categorical-data-encoding/\n",
    "\n",
    "# binary_encoder = ce.BinaryEncoder(cols=['std_company_name'], return_df=True)\n",
    "# levels_df = binary_encoder.fit_transform(levels_df)\n",
    "\n",
    "# OPTION 2: Hot encoding the TOP X most frequent companies\n",
    "company_threshold = 100 # companies with more than X instances\n",
    "top_companies = levels_df[levels_df['std_company_name'].isin(levels_df['std_company_name'].value_counts()[levels_df['std_company_name'].value_counts() > company_threshold].index)].std_company_name.unique()\n",
    "top_companies = top_companies.tolist()\n",
    "# Join top companies\n",
    "levels_df = levels_df.join(pd.get_dummies(levels_df.std_company_name)[top_companies])\n",
    "\n",
    "# # Optional\n",
    "levels_df.drop(['company'], axis=1, inplace=True)\n"
   ]
  },
  {
   "cell_type": "code",
   "execution_count": 25,
   "metadata": {
    "id": "5bd59da5"
   },
   "outputs": [],
   "source": [
    "# OPTIONAL: Dropping values for not relevant/encoded features:\n",
    "# 'tag', 'otherdetails', 'dmaid', 'rowNumber' -> not relevant or replicable from user inputs\n",
    "\n",
    "levels_df.drop(['tag', 'otherdetails', 'dmaid', 'rowNumber'], axis=1, inplace=True)\n"
   ]
  },
  {
   "cell_type": "code",
   "execution_count": 26,
   "metadata": {
    "colab": {
     "base_uri": "https://localhost:8080/"
    },
    "id": "55744eab",
    "outputId": "635dfb2a-5b93-4c75-8012-2ed79e0270c6"
   },
   "outputs": [
    {
     "name": "stdout",
     "output_type": "stream",
     "text": [
      "['timestamp', 'level', 'totalyearlycompensation', 'yearsofexperience', 'yearsatcompany', 'basesalary', 'stockgrantvalue', 'bonus', 'Education', 'std_company_name', 'US', 'United Kingdom', 'India', 'Canada', 'San Francisco, CA', 'Sunnyvale, CA', 'Redmond, WA', 'Seattle, WA', 'Menlo Park, CA', 'Cupertino, CA', 'Mountain View, CA', 'San Jose, CA', 'Palo Alto, CA', 'New York, NY', 'Austin, TX', 'Boston, MA', 'Santa Clara, CA', 'Product Manager', 'Software Engineer', 'Software Engineering Manager', 'Data Scientist', 'Solution Architect', 'Technical Program Manager', 'Hardware Engineer', 'Mechanical Engineer', 'oracle', 'ebay', 'apple', 'microsoft', 'salesforce', 'amazon', 'facebook', 'uber', 'google', 'netflix', 'pinterest', 'linkedin', 'adobe', 'intel', 'lyft', 'yelp', 'airbnb', 'sap', 'vmware', 'twitter', 'cisco', 'dropbox', 'ibm', 'walmart_labs', 'twilio', 'qualcomm', 'tesla', 'expedia', 'yahoo', 'intuit', 'bloomberg', 'yandex', 'capital_one', 'workday', 'splunk', 'samsung', 'autodesk', 'dell_technologies', 'box', 'booking.com', 'paypal', 'atlassian', 'indeed', 'shopify', 'accenture', 'nvidia', 'snap', 'square', 'nutanix', 'spotify', 'zillow', 'godaddy', 't-mobile', 'goldman_sachs', 'cruise', 'qualtrics', 'northrop_grumman', 'deloitte', 'jpmorgan_chase', 'wayfair', 'boeing', 'ernst_and_young', 'comcast', 'american_express', 'broadcom', 'general_motors', 'stripe', 'servicenow', 'visa', 'walmart', 'epam_systems', 'morgan_stanley', 'amd', 'doordash', 'instacart', 'lockheed_martin', 'pwc', 'bytedance']\n"
     ]
    }
   ],
   "source": [
    "# Current available columns\n",
    "print(levels_df.columns.tolist())"
   ]
  },
  {
   "cell_type": "markdown",
   "metadata": {
    "id": "e4922d19"
   },
   "source": [
    "## Models\n"
   ]
  },
  {
   "cell_type": "code",
   "execution_count": 27,
   "metadata": {
    "id": "q4Bo46iCB5Yd"
   },
   "outputs": [],
   "source": [
    "from sklearn.model_selection import train_test_split\n",
    "\n",
    "y = levels_df[\"totalyearlycompensation\"]\n",
    "X = levels_df.drop([\"totalyearlycompensation\"], axis=1)\n",
    "X = X.drop([\"timestamp\"], axis=1)\n",
    "X = X.drop([\"level\"], axis=1)\n",
    "X = X.drop([\"std_company_name\"], axis=1)\n",
    "X = X.drop([\"basesalary\"], axis=1)\n",
    "X = X.drop([\"stockgrantvalue\"], axis=1)\n",
    "X = X.drop([\"bonus\"], axis=1)\n",
    "X_train, X_test, y_train, y_test = train_test_split(X, y, test_size=0.3, random_state=42)"
   ]
  },
  {
   "cell_type": "code",
   "execution_count": 28,
   "metadata": {},
   "outputs": [
    {
     "data": {
      "text/plain": [
       "106"
      ]
     },
     "execution_count": 28,
     "metadata": {},
     "output_type": "execute_result"
    }
   ],
   "source": [
    "# Changing options to display full result\n",
    "pd.set_option(\"display.max_rows\", None, \"display.max_columns\", None)\n",
    "pd.set_option('display.max_colwidth', None)\n",
    "\n",
    "# Print np arrays without truncation\n",
    "np.set_printoptions(threshold=np.inf)\n",
    "\n",
    "# 2 decimals for operations in pandas\n",
    "pd.set_option('precision', 2)\n",
    "\n",
    "X.dtypes.size"
   ]
  },
  {
   "cell_type": "code",
   "execution_count": 29,
   "metadata": {
    "colab": {
     "base_uri": "https://localhost:8080/"
    },
    "id": "Vl6MyiKgDaZC",
    "outputId": "455e235e-a095-46cb-d5bc-7560bc04cfb2"
   },
   "outputs": [
    {
     "data": {
      "text/plain": [
       "0.5038987590173625"
      ]
     },
     "metadata": {},
     "output_type": "display_data"
    },
    {
     "data": {
      "text/plain": [
       "97226.67783788069"
      ]
     },
     "metadata": {},
     "output_type": "display_data"
    }
   ],
   "source": [
    "from sklearn.linear_model import LinearRegression\n",
    "\n",
    "lin_reg = LinearRegression().fit(X_train, y_train)\n",
    "y_pred = lin_reg.predict(X_test)\n",
    "\n",
    "from sklearn.metrics import r2_score, mean_squared_error\n",
    "import math\n",
    "\n",
    "display(r2_score(y_test, y_pred))\n",
    "display(math.sqrt(mean_squared_error(y_test, y_pred)))"
   ]
  },
  {
   "cell_type": "code",
   "execution_count": 30,
   "metadata": {
    "colab": {
     "base_uri": "https://localhost:8080/"
    },
    "id": "EWLfT3DphK7o",
    "outputId": "04337caa-6898-4300-ed12-a3c3f3f21179"
   },
   "outputs": [
    {
     "data": {
      "text/plain": [
       "0.28125726324178857"
      ]
     },
     "metadata": {},
     "output_type": "display_data"
    },
    {
     "data": {
      "text/plain": [
       "117027.2566060248"
      ]
     },
     "metadata": {},
     "output_type": "display_data"
    }
   ],
   "source": [
    "from sklearn.tree import DecisionTreeRegressor \n",
    "\n",
    "dt_reg = DecisionTreeRegressor(random_state = 0).fit(X_train, y_train)\n",
    "y_pred = dt_reg.predict(X_test)\n",
    "\n",
    "display(r2_score(y_test, y_pred))\n",
    "display(math.sqrt(mean_squared_error(y_test, y_pred)))"
   ]
  },
  {
   "cell_type": "code",
   "execution_count": 31,
   "metadata": {
    "colab": {
     "base_uri": "https://localhost:8080/"
    },
    "id": "T1e_SusShqdM",
    "outputId": "857b3396-8070-47f6-93d2-a3c3b6087342"
   },
   "outputs": [
    {
     "data": {
      "text/plain": [
       "0.5486871798037876"
      ]
     },
     "metadata": {},
     "output_type": "display_data"
    },
    {
     "data": {
      "text/plain": [
       "92734.02816768347"
      ]
     },
     "metadata": {},
     "output_type": "display_data"
    }
   ],
   "source": [
    "from sklearn.ensemble import GradientBoostingRegressor\n",
    "\n",
    "gbr = GradientBoostingRegressor(n_estimators=400, \n",
    "    max_depth=5, \n",
    "    learning_rate=0.1, \n",
    "    min_samples_split=3).fit(X_train, y_train)\n",
    "\n",
    "y_pred = gbr.predict(X_test)\n",
    "\n",
    "display(r2_score(y_test, y_pred))\n",
    "display(math.sqrt(mean_squared_error(y_test, y_pred)))"
   ]
  },
  {
   "cell_type": "markdown",
   "metadata": {},
   "source": [
    "### Model Tuning: Grid Search"
   ]
  },
  {
   "cell_type": "code",
   "execution_count": 32,
   "metadata": {},
   "outputs": [],
   "source": [
    "from sklearn.model_selection import GridSearchCV"
   ]
  },
  {
   "cell_type": "code",
   "execution_count": 33,
   "metadata": {},
   "outputs": [
    {
     "data": {
      "text/plain": [
       "0.5655370205064776"
      ]
     },
     "metadata": {},
     "output_type": "display_data"
    },
    {
     "data": {
      "text/plain": [
       "90986.44105639277"
      ]
     },
     "metadata": {},
     "output_type": "display_data"
    }
   ],
   "source": [
    "# Tuning tree-based parameters\n",
    "# param_test1 = {'n_estimators':range(100,1100,50)}  # Results: n_estimators:950 , learning_rate: 0.30, r2: 0.5666845281853159\n",
    "# param_test2 = {'max_depth':range(5,16,2), 'min_samples_split':range(200,1001,200)} # Results: max_depth:5 , min_samples_split: 200, r2: 0.5686805619270067\n",
    "# param_test3 = {'min_samples_leaf':range(30,71,10)} # Results: min_samples_leaf: 50, r2: 0.5686805619270067\n",
    "# param_test4 = {'max_features':range(10,107,5)} # Results: max_features: 10, r2: 0.5686805619270067\n",
    "# param_test5 = {'subsample':[0.6,0.7,0.75,0.8,0.85,0.9]} # Results: subsample: 0.80, r2: 0.5686805619270067\n",
    "\n",
    "\n",
    "# gsearch = GridSearchCV(estimator = GradientBoostingRegressor(max_depth=5, \n",
    "#     learning_rate=0.3,\n",
    "#     min_samples_split=400,\n",
    "#     min_samples_leaf = 50,\n",
    "#     max_features='sqrt',\n",
    "#     subsample=0.8), \n",
    "# param_grid = param_test1, scoring='r2',n_jobs=4, cv=5)\n",
    "\n",
    "# gsearch = GridSearchCV(estimator = GradientBoostingRegressor(learning_rate=0.3,\n",
    "#     n_estimators=950,\n",
    "#     max_features='sqrt',\n",
    "#     min_samples_leaf = 50,\n",
    "#     subsample=0.8,\n",
    "#     random_state=10), \n",
    "# param_grid = param_test2, scoring='r2',n_jobs=4, cv=5)\n",
    "\n",
    "# gsearch = GridSearchCV(estimator = GradientBoostingRegressor(learning_rate=0.3,\n",
    "#     n_estimators=950,\n",
    "#     max_depth = 5,\n",
    "#     max_features='sqrt',\n",
    "#     min_samples_split = 200,\n",
    "#     subsample=0.8,\n",
    "#     random_state=10), \n",
    "# param_grid = param_test3, scoring='r2',n_jobs=4, cv=5)\n",
    "\n",
    "# gsearch = GridSearchCV(estimator = GradientBoostingRegressor(learning_rate=0.3,\n",
    "#     n_estimators=950,\n",
    "#     max_depth = 5,\n",
    "#     min_samples_leaf = 50,\n",
    "#     min_samples_split = 200,\n",
    "#     subsample=0.8,\n",
    "#     random_state=10), \n",
    "# param_grid = param_test4, scoring='r2',n_jobs=4, cv=5)\n",
    "\n",
    "# gsearch = GridSearchCV(estimator = GradientBoostingRegressor(learning_rate=0.3,\n",
    "#     n_estimators=950,\n",
    "#     max_depth = 5,\n",
    "#     min_samples_leaf = 50,\n",
    "#     max_features = 10,\n",
    "#     min_samples_split = 200,\n",
    "#     random_state=10), \n",
    "# param_grid = param_test5, scoring='r2',n_jobs=4, cv=5)\n",
    "\n",
    "# Try (learning_rate, n_estimators) = (0.15, 950, r2:0.5721630764851731), (0.07,1500,r2:0.5695696455357104),\n",
    "# (0.15, 1200, r2:0.5731318732782869)\n",
    "gbr_tuned = GradientBoostingRegressor(learning_rate=0.15,\n",
    "    n_estimators=1200,\n",
    "    max_depth = 5,\n",
    "    min_samples_leaf = 50,\n",
    "    max_features = 10,\n",
    "    min_samples_split = 200,\n",
    "    subsample = 0.80,\n",
    "    random_state=10)\n",
    "\n",
    "# Fit model\n",
    "# gsearch.fit(X_train,y_train)\n",
    "gbr_tuned.fit(X_train,y_train)\n",
    "\n",
    "# Print best params\n",
    "# display(gsearch.best_params_, gsearch.best_score_)\n",
    "\n",
    "# Predict\n",
    "# y_pred = gsearch.predict(X_test)\n",
    "y_pred = gbr_tuned.predict(X_test)\n",
    "display(r2_score(y_test, y_pred))\n",
    "display(math.sqrt(mean_squared_error(y_test, y_pred)))\n"
   ]
  },
  {
   "cell_type": "markdown",
   "metadata": {},
   "source": [
    "## Dump Models"
   ]
  },
  {
   "cell_type": "code",
   "execution_count": 34,
   "metadata": {
    "colab": {
     "base_uri": "https://localhost:8080/",
     "height": 17
    },
    "id": "xp-ZesVf0b29",
    "outputId": "c296d678-8524-40c2-f7e2-6b0b95730c33"
   },
   "outputs": [
    {
     "data": {
      "text/plain": [
       "['totalcomp_undersampled_gbr_tuned.joblib']"
      ]
     },
     "execution_count": 34,
     "metadata": {},
     "output_type": "execute_result"
    }
   ],
   "source": [
    "from joblib import dump, load\n",
    "\n",
    "# dump(gbr, 'totalcomp_gbr.joblib')\n",
    "dump(gbr_tuned, 'totalcomp_undersampled_gbr_tuned.joblib')\n",
    "\n",
    "# from google.colab import files\n",
    "# files.download('totalcomp_gbr_tuned.joblib')"
   ]
  },
  {
   "cell_type": "code",
   "execution_count": null,
   "metadata": {},
   "outputs": [],
   "source": []
  }
 ],
 "metadata": {
  "colab": {
   "collapsed_sections": [],
   "name": "WoutGenderRace.ipynb",
   "provenance": []
  },
  "kernelspec": {
   "display_name": "Python 3 (ipykernel)",
   "language": "python",
   "name": "python3"
  },
  "language_info": {
   "codemirror_mode": {
    "name": "ipython",
    "version": 3
   },
   "file_extension": ".py",
   "mimetype": "text/x-python",
   "name": "python",
   "nbconvert_exporter": "python",
   "pygments_lexer": "ipython3",
   "version": "3.9.7"
  }
 },
 "nbformat": 4,
 "nbformat_minor": 1
}
